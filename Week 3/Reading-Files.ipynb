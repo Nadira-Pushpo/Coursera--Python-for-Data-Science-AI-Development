{
 "cells": [
  {
   "cell_type": "markdown",
   "id": "6c0e3103-c4c1-44e5-8b50-25ea4ca0a2bc",
   "metadata": {},
   "source": [
    "\n",
    "Question 1\n",
    "Consider the following text file:  Example1.txt:\n",
    "\n",
    "This is line 1\n",
    "\n",
    "This is line 2\n",
    "\n",
    "This is line 3\n",
    "\n",
    "What is the output of the following lines of code?"
   ]
  },
  {
   "cell_type": "code",
   "execution_count": null,
   "id": "356fdc3c-91a6-4459-bbde-d5e81994fa50",
   "metadata": {},
   "outputs": [],
   "source": []
  },
  {
   "cell_type": "markdown",
   "id": "2310ab2c-d561-4523-a371-af2cef615430",
   "metadata": {},
   "source": [
    "qus-2 \n",
    "Consider the following line of code:\n",
    "\n",
    "with open(example1,\"r\") as file1:\n",
    "    \n",
    "What mode is the file object in?"
   ]
  },
  {
   "cell_type": "markdown",
   "id": "3dabceb1-d926-447c-b3e9-8fd4c551a28f",
   "metadata": {},
   "source": [
    "Ans- Read"
   ]
  },
  {
   "cell_type": "code",
   "execution_count": null,
   "id": "3efb2682-7438-4b19-905c-e27e769aacdf",
   "metadata": {},
   "outputs": [],
   "source": [
    "Qu\n",
    "with open('Example2.txt','r') as readfile:\n",
    "    with open('Example3.txt','w') as writefile:\n",
    "          for line in readfile:\n",
    "                writefile.write(line)"
   ]
  }
 ],
 "metadata": {
  "kernelspec": {
   "display_name": "anaconda-panel-2023.05-py310",
   "language": "python",
   "name": "conda-env-anaconda-panel-2023.05-py310-py"
  },
  "language_info": {
   "codemirror_mode": {
    "name": "ipython",
    "version": 3
   },
   "file_extension": ".py",
   "mimetype": "text/x-python",
   "name": "python",
   "nbconvert_exporter": "python",
   "pygments_lexer": "ipython3",
   "version": "3.11.5"
  }
 },
 "nbformat": 4,
 "nbformat_minor": 5
}
