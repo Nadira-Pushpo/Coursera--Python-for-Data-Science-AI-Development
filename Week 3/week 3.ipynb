{
 "cells": [
  {
   "cell_type": "markdown",
   "id": "ae512599-e931-4ff5-8854-d0654c116d74",
   "metadata": {},
   "source": [
    "Question 1\n",
    "What is the output of the following code?"
   ]
  },
  {
   "cell_type": "code",
   "execution_count": 2,
   "id": "3de3ee60-3c05-49b6-9d80-f4ba00c4dd05",
   "metadata": {},
   "outputs": [
    {
     "name": "stdout",
     "output_type": "stream",
     "text": [
      "Go \n",
      "Mike\n"
     ]
    }
   ],
   "source": [
    "x=\"Go\"\n",
    "\n",
    "if(x==\"Go\"):\n",
    "\n",
    "  print('Go ')\n",
    "else:\n",
    "\n",
    "  print('Stop')\n",
    "\n",
    "print('Mike')"
   ]
  },
  {
   "cell_type": "markdown",
   "id": "510d59a9-3fac-4ce2-8e78-215c369936e9",
   "metadata": {},
   "source": [
    "\n",
    "Question 2\n",
    "What is the result of the following lines of code?"
   ]
  },
  {
   "cell_type": "code",
   "execution_count": 6,
   "id": "b7f9e0b6-1e87-4a5d-a01a-ecb0e18ae986",
   "metadata": {},
   "outputs": [
    {
     "data": {
      "text/plain": [
       "True"
      ]
     },
     "execution_count": 6,
     "metadata": {},
     "output_type": "execute_result"
    }
   ],
   "source": [
    "x=1\n",
    "x>-5"
   ]
  },
  {
   "cell_type": "markdown",
   "id": "762aecd6-4aae-4459-9ca3-2e03888617ce",
   "metadata": {},
   "source": [
    "\n",
    "Question 3\n",
    "What is the output of the following few lines of code?"
   ]
  },
  {
   "cell_type": "code",
   "execution_count": 9,
   "id": "9937198b-9778-4e0b-bb50-db20e8d9c7f7",
   "metadata": {},
   "outputs": [
    {
     "name": "stdout",
     "output_type": "stream",
     "text": [
      "5\n",
      "4\n",
      "3\n"
     ]
    }
   ],
   "source": [
    "x=5\n",
    "while(x!=2):\n",
    "  print(x)\n",
    "  x=x-1\n"
   ]
  },
  {
   "cell_type": "markdown",
   "id": "e0a4393e-2934-48a2-bf94-ca8a71ba5a74",
   "metadata": {},
   "source": [
    "\n",
    "Question 4\n",
    "What is the result of running the following lines of code ?"
   ]
  },
  {
   "cell_type": "code",
   "execution_count": 12,
   "id": "ae2e86b4-e19f-4b2f-86bc-6d0be2d2e012",
   "metadata": {},
   "outputs": [
    {
     "name": "stdout",
     "output_type": "stream",
     "text": [
      "x= A  y= B\n"
     ]
    }
   ],
   "source": [
    "class Points(object):\n",
    "  def __init__(self,x,y):\n",
    "\n",
    "    self.x=x\n",
    "    self.y=y\n",
    "\n",
    "  def print_point(self):\n",
    "\n",
    "    print('x=',self.x,' y=',self.y)\n",
    "\n",
    "p1=Points(\"A\",\"B\")\n",
    "p1.print_point()"
   ]
  },
  {
   "cell_type": "markdown",
   "id": "14b32036-47c9-4ea0-9f7b-529bf0a064a6",
   "metadata": {},
   "source": [
    "\n",
    "Question 5\n",
    "What is the output of the following few lines of code?"
   ]
  },
  {
   "cell_type": "code",
   "execution_count": 17,
   "id": "c800975e-597d-4779-b4ef-201bffac4442",
   "metadata": {},
   "outputs": [
    {
     "name": "stdout",
     "output_type": "stream",
     "text": [
      "0 AA\n",
      "1 BB\n",
      "2 CC\n"
     ]
    }
   ],
   "source": [
    "for i,x in enumerate(['A','B','C']):\n",
    "    print(i,2*x)"
   ]
  },
  {
   "cell_type": "markdown",
   "id": "49e1b023-c2c0-4616-bda0-900fabfe450f",
   "metadata": {},
   "source": [
    "\n",
    "Question 6\n",
    "What is the result of running the following lines of code ?"
   ]
  },
  {
   "cell_type": "code",
   "execution_count": 20,
   "id": "94886a76-0b65-4a13-a9b8-dcf29bc19876",
   "metadata": {},
   "outputs": [
    {
     "name": "stdout",
     "output_type": "stream",
     "text": [
      "x= 2  y= 2\n"
     ]
    }
   ],
   "source": [
    "class Points(object):\n",
    "  def __init__(self,x,y):\n",
    "\n",
    "    self.x=x\n",
    "    self.y=y\n",
    "\n",
    "  def print_point(self):\n",
    "\n",
    "    print('x=',self.x,' y=',self.y)\n",
    "\n",
    "p2=Points(1,2)\n",
    "\n",
    "p2.x=2\n",
    "\n",
    "p2.print_point()"
   ]
  },
  {
   "cell_type": "markdown",
   "id": "1bf5ba55-e920-4b30-9ade-f07001182895",
   "metadata": {},
   "source": [
    "\n",
    "Question 7\n",
    "Consider the function delta, when will the function return a value of 1?"
   ]
  },
  {
   "cell_type": "code",
   "execution_count": 26,
   "id": "e995585b-07b8-47ee-adfc-392967b1e926",
   "metadata": {},
   "outputs": [],
   "source": [
    "def delta(x):\n",
    "  if x==0:\n",
    "    y=1\n",
    "  else:\n",
    "    y=0\n",
    "  return(y)"
   ]
  },
  {
   "cell_type": "markdown",
   "id": "d1441e02-4dbe-4109-8481-423a6b2b6ce3",
   "metadata": {},
   "source": [
    "Ans- Never"
   ]
  },
  {
   "cell_type": "markdown",
   "id": "3f9af7b4-5c6d-423a-bb25-42359862e508",
   "metadata": {},
   "source": [
    "\n",
    "Question 8\n",
    "What is the output of the following lines of code?"
   ]
  },
  {
   "cell_type": "code",
   "execution_count": 30,
   "id": "de16a068-ad5e-46e6-be69-f462d73d5f91",
   "metadata": {},
   "outputs": [
    {
     "name": "stdout",
     "output_type": "stream",
     "text": [
      "101\n"
     ]
    }
   ],
   "source": [
    "a=1\n",
    "\n",
    "def do(x):\n",
    "    a=100\n",
    "    return(x+a)\n",
    "\n",
    "print(do(1))"
   ]
  },
  {
   "cell_type": "markdown",
   "id": "d53701e2-ac23-4a44-be56-07336a18e055",
   "metadata": {},
   "source": []
  },
  {
   "cell_type": "code",
   "execution_count": null,
   "id": "32469ab5-8760-45e4-8def-d3a507e4128b",
   "metadata": {},
   "outputs": [],
   "source": []
  }
 ],
 "metadata": {
  "kernelspec": {
   "display_name": "anaconda-panel-2023.05-py310",
   "language": "python",
   "name": "conda-env-anaconda-panel-2023.05-py310-py"
  },
  "language_info": {
   "codemirror_mode": {
    "name": "ipython",
    "version": 3
   },
   "file_extension": ".py",
   "mimetype": "text/x-python",
   "name": "python",
   "nbconvert_exporter": "python",
   "pygments_lexer": "ipython3",
   "version": "3.11.5"
  }
 },
 "nbformat": 4,
 "nbformat_minor": 5
}
