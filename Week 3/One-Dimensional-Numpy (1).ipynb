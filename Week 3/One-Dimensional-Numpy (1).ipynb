{
 "cells": [
  {
   "cell_type": "markdown",
   "id": "45b9c800-1d90-434f-90c0-c3cb95c78b77",
   "metadata": {},
   "source": [
    "\n",
    "Question 1\n",
    "What is the result of the following lines of code?"
   ]
  },
  {
   "cell_type": "code",
   "execution_count": 6,
   "id": "176285af-76b8-4734-81ae-1315083e4a3e",
   "metadata": {},
   "outputs": [
    {
     "data": {
      "text/plain": [
       "array([0, 0, 0, 0, 0])"
      ]
     },
     "execution_count": 6,
     "metadata": {},
     "output_type": "execute_result"
    }
   ],
   "source": [
    "import numpy as np\n",
    "\n",
    "a=np.array([0,1,0,1,0])\n",
    "b=np.array([1,0,1,0,1])\n",
    "a*b"
   ]
  },
  {
   "cell_type": "markdown",
   "id": "edde986d-bd08-45e9-94ea-0e90f1ed93ac",
   "metadata": {},
   "source": [
    "\n",
    "2. What is the result of the following lines of code:"
   ]
  },
  {
   "cell_type": "code",
   "execution_count": 10,
   "id": "cf546209-6bbc-4908-b450-0c080a23a3ce",
   "metadata": {},
   "outputs": [
    {
     "data": {
      "text/plain": [
       "0"
      ]
     },
     "execution_count": 10,
     "metadata": {},
     "output_type": "execute_result"
    }
   ],
   "source": [
    "a=np.array([-1,1])\n",
    "b=np.array([1,1])\n",
    "np.dot(a,b)"
   ]
  },
  {
   "cell_type": "markdown",
   "id": "cc92541d-3c0a-4321-9046-860c381218fe",
   "metadata": {},
   "source": [
    "\n",
    "Question 3\n",
    "What values does the variable  out take if the following lines of code are run?"
   ]
  },
  {
   "cell_type": "code",
   "execution_count": 20,
   "id": "c63bcf26-f08c-4767-bbe5-c3d2d3e28ea4",
   "metadata": {},
   "outputs": [
    {
     "data": {
      "text/plain": [
       "array([1, 2])"
      ]
     },
     "execution_count": 20,
     "metadata": {},
     "output_type": "execute_result"
    }
   ],
   "source": [
    "X=np.array([[1,0,1],[2,2,2]]) \n",
    "out=X[0:2,2]\n",
    "out"
   ]
  },
  {
   "cell_type": "markdown",
   "id": "7f780eb1-eba2-4e18-b833-8ea2e47dd7dc",
   "metadata": {},
   "source": [
    "Qus- 4\n",
    "What do the following lines of code do?"
   ]
  },
  {
   "cell_type": "code",
   "execution_count": 34,
   "id": "d5498c27-9fe4-4e45-bc7d-249bb0ce54b7",
   "metadata": {},
   "outputs": [],
   "source": [
    "with open(\"Example.txt\",\"a\") as writefile:\n",
    "  \n",
    "  writefile.write(\"This is line A\\n\")\n",
    "  writefile.write(\"This is line B\\n\")"
   ]
  },
  {
   "cell_type": "markdown",
   "id": "3819f77e-f9d0-482f-95e7-b157a6ba781d",
   "metadata": {},
   "source": [
    "Qus- 5\n",
    "What task do the following lines of code perform?"
   ]
  },
  {
   "cell_type": "code",
   "execution_count": null,
   "id": "f9532d68-3ff4-4f1a-9a18-31b22592a181",
   "metadata": {},
   "outputs": [],
   "source": [
    "with open('Example2.txt','r') as readfile:\n",
    "    with open('Example3.txt','w') as writefile:\n",
    "          for line in readfile:\n",
    "                writefile.write(line)"
   ]
  }
 ],
 "metadata": {
  "kernelspec": {
   "display_name": "anaconda-panel-2023.05-py310",
   "language": "python",
   "name": "conda-env-anaconda-panel-2023.05-py310-py"
  },
  "language_info": {
   "codemirror_mode": {
    "name": "ipython",
    "version": 3
   },
   "file_extension": ".py",
   "mimetype": "text/x-python",
   "name": "python",
   "nbconvert_exporter": "python",
   "pygments_lexer": "ipython3",
   "version": "3.11.5"
  }
 },
 "nbformat": 4,
 "nbformat_minor": 5
}
