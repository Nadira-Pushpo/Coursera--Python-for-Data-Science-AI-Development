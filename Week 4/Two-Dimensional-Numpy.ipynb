{
 "cells": [
  {
   "cell_type": "markdown",
   "id": "d67cea13-91ed-46a1-b7db-46aab01ebe85",
   "metadata": {},
   "source": [
    "qus- 1\n",
    "What values does the variable  out take if the following lines of code are run?"
   ]
  },
  {
   "cell_type": "code",
   "execution_count": 8,
   "id": "5551dbb5-bdc6-471d-893f-8f0de4d068c7",
   "metadata": {},
   "outputs": [
    {
     "data": {
      "text/plain": [
       "array([1, 2])"
      ]
     },
     "execution_count": 8,
     "metadata": {},
     "output_type": "execute_result"
    }
   ],
   "source": [
    "import numpy as np\n",
    "X=np.array([[1,0,1],[2,2,2]]) \n",
    "out=X[0:2,2]\n",
    "out"
   ]
  },
  {
   "cell_type": "markdown",
   "id": "e87be843-4ad5-4b0d-bfae-a672a4b61c7b",
   "metadata": {},
   "source": [
    "\n",
    "Question 2\n",
    "What is the value of  Z after the following code is run?"
   ]
  },
  {
   "cell_type": "code",
   "execution_count": 21,
   "id": "72a76101-224f-4b69-8b0a-25269b5ea182",
   "metadata": {},
   "outputs": [],
   "source": [
    "X=np.array([[1,0],[0,1]])\n",
    "Y=np.array([[2,2],[2,2]])\n",
    "Z=np.dot(X,Y)"
   ]
  },
  {
   "cell_type": "code",
   "execution_count": 25,
   "id": "de605239-c8c9-4a67-a638-2e07b32f2d00",
   "metadata": {},
   "outputs": [
    {
     "data": {
      "text/plain": [
       "array([[2, 2],\n",
       "       [2, 2]])"
      ]
     },
     "execution_count": 25,
     "metadata": {},
     "output_type": "execute_result"
    }
   ],
   "source": [
    "Z"
   ]
  },
  {
   "cell_type": "code",
   "execution_count": null,
   "id": "e87d6571-fe8f-43c2-856f-036e5b59f72c",
   "metadata": {},
   "outputs": [],
   "source": []
  }
 ],
 "metadata": {
  "kernelspec": {
   "display_name": "anaconda-panel-2023.05-py310",
   "language": "python",
   "name": "conda-env-anaconda-panel-2023.05-py310-py"
  },
  "language_info": {
   "codemirror_mode": {
    "name": "ipython",
    "version": 3
   },
   "file_extension": ".py",
   "mimetype": "text/x-python",
   "name": "python",
   "nbconvert_exporter": "python",
   "pygments_lexer": "ipython3",
   "version": "3.11.5"
  }
 },
 "nbformat": 4,
 "nbformat_minor": 5
}
