{
 "cells": [
  {
   "cell_type": "markdown",
   "id": "b4f43d71-083c-4d08-9d72-98c9d676046f",
   "metadata": {},
   "source": [
    "1. Consider the tuple tuple A=((1),[2,3],[4]), what is the result of the following operation tuple A[2]?"
   ]
  },
  {
   "cell_type": "code",
   "execution_count": 19,
   "id": "9574590d-8ebf-48fb-9669-038828f7d707",
   "metadata": {},
   "outputs": [
    {
     "data": {
      "text/plain": [
       "[4]"
      ]
     },
     "execution_count": 19,
     "metadata": {},
     "output_type": "execute_result"
    }
   ],
   "source": [
    " tupleA=((1),[2,3],[4])\n",
    " tupleA[2]  "
   ]
  },
  {
   "cell_type": "markdown",
   "id": "be3f088f-0457-465b-882c-103f1fa4dfe1",
   "metadata": {},
   "source": [
    "2. Consider the tuple A=((11,12),[21,22]), that contains a tuple and list. What is the result of the following operation A[0][1]?"
   ]
  },
  {
   "cell_type": "code",
   "execution_count": 23,
   "id": "813b026d-e1e4-429e-9608-0f2c406741fc",
   "metadata": {},
   "outputs": [
    {
     "data": {
      "text/plain": [
       "12"
      ]
     },
     "execution_count": 23,
     "metadata": {},
     "output_type": "execute_result"
    }
   ],
   "source": [
    "tupleA=((11,12),[21,22])\n",
    "tupleA[0][1]"
   ]
  },
  {
   "cell_type": "markdown",
   "id": "abbbcb1e-cd5d-474f-ba4f-12e7911b3027",
   "metadata": {},
   "source": [
    "3. True or false: after applying the following method, L.append(['a','b']), the following list will only be one element longer."
   ]
  },
  {
   "cell_type": "markdown",
   "id": "c43f491b-9064-48ce-849e-fce3cbfda946",
   "metadata": {},
   "source": [
    "ANS- True"
   ]
  },
  {
   "cell_type": "markdown",
   "id": "95e246e8-eeda-4a9b-801c-c8c0f083e125",
   "metadata": {},
   "source": [
    "4. Consider the following list : A=[\"hard rock\",10,1.2]\n",
    "\n",
    "What will list A contain after the following command is run: del(A[0]) ?"
   ]
  },
  {
   "cell_type": "code",
   "execution_count": 28,
   "id": "6b284299-6a4f-480e-8b72-88e9adbece93",
   "metadata": {},
   "outputs": [
    {
     "name": "stdout",
     "output_type": "stream",
     "text": [
      "[10, 1.2]\n"
     ]
    }
   ],
   "source": [
    "A=[\"hard rock\",10,1.2]\n",
    "del(A[0])\n",
    "print(A)"
   ]
  },
  {
   "cell_type": "markdown",
   "id": "2ee04448-8a5f-45fc-967c-d076c92696fb",
   "metadata": {},
   "source": [
    "5. What is the syntax to clone the list A and assign the result to list B ?"
   ]
  },
  {
   "cell_type": "markdown",
   "id": "d50f0314-a430-4c98-a046-139f62f9932e",
   "metadata": {},
   "source": [
    "Ans: B=A[:]"
   ]
  },
  {
   "cell_type": "markdown",
   "id": "1d32f689-0fb9-47f8-820b-b4ed11df5c2c",
   "metadata": {},
   "source": [
    "6. What is the result of the following: len((\"disco\",10)) ?"
   ]
  },
  {
   "cell_type": "markdown",
   "id": "91f79342-61e9-467e-85eb-d2506e441e56",
   "metadata": {},
   "source": [
    "Ans- 2"
   ]
  },
  {
   "cell_type": "markdown",
   "id": "732bd2f2-79de-48ac-b3d9-bcf1f3487df7",
   "metadata": {},
   "source": [
    "7. Consider the following dictionary:\n",
    "\n",
    "{ \"The Bodyguard\":\"1992\", \"Saturday Night Fever\":\"1977\"} \n",
    "\n",
    "select  the keys "
   ]
  },
  {
   "cell_type": "markdown",
   "id": "1f5f0b61-fc9c-4f37-b892-9e74667e3ac6",
   "metadata": {},
   "source": [
    "ANS- 1992, 1997"
   ]
  },
  {
   "cell_type": "markdown",
   "id": "0811db4f-d553-452a-b3e1-c0e0acd4e503",
   "metadata": {},
   "source": [
    "8. The variable  release_year_dict is a Python Dictionary, what is the result of applying the following method: release_year_dict.keys() ?"
   ]
  },
  {
   "cell_type": "markdown",
   "id": "05de5e8b-8bfc-403c-b218-5f1166dda677",
   "metadata": {},
   "source": [
    "Ans- retrieve the keys of the dictionary\n"
   ]
  },
  {
   "cell_type": "markdown",
   "id": "e4b14cf0-2fc8-4308-bc28-97ed2420b921",
   "metadata": {},
   "source": [
    "9. Consider the Set: V={'A','B'}, what is the result of V.add('C')?"
   ]
  },
  {
   "cell_type": "markdown",
   "id": "25183051-af17-491b-8c23-548810026445",
   "metadata": {},
   "source": [
    "Ans - {'A','B','C'}\n",
    "\n"
   ]
  },
  {
   "cell_type": "markdown",
   "id": "438b444c-f868-4d3c-8622-2690fdf327e8",
   "metadata": {},
   "source": [
    "10. What is the result of the following: 'A' in {'A','B'} ?"
   ]
  },
  {
   "cell_type": "markdown",
   "id": "b6a0b36f-e6a4-4195-a4ba-9b7ba6127e35",
   "metadata": {},
   "source": [
    "Ans- True"
   ]
  },
  {
   "cell_type": "code",
   "execution_count": null,
   "id": "fbb848f5-6e4c-4fb6-969c-96d566e9e885",
   "metadata": {},
   "outputs": [],
   "source": []
  }
 ],
 "metadata": {
  "kernelspec": {
   "display_name": "anaconda-panel-2023.05-py310",
   "language": "python",
   "name": "conda-env-anaconda-panel-2023.05-py310-py"
  },
  "language_info": {
   "codemirror_mode": {
    "name": "ipython",
    "version": 3
   },
   "file_extension": ".py",
   "mimetype": "text/x-python",
   "name": "python",
   "nbconvert_exporter": "python",
   "pygments_lexer": "ipython3",
   "version": "3.11.5"
  }
 },
 "nbformat": 4,
 "nbformat_minor": 5
}
